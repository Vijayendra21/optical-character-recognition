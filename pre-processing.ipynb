{
 "cells": [
  {
   "cell_type": "code",
   "execution_count": 17,
   "metadata": {},
   "outputs": [],
   "source": [
    "import os\n",
    "from PIL import Image, ImageFilter\n",
    "import numpy as np"
   ]
  },
  {
   "cell_type": "code",
   "execution_count": 18,
   "metadata": {},
   "outputs": [],
   "source": [
    "cwd=os.getcwd()\n",
    "os.makedirs(os.path.join(cwd, \"Preprocessed-Data\"), exist_ok=True)\n",
    "\n",
    "dataPath=os.path.join(cwd,os.listdir()[0])\n",
    "dataPath=os.path.join(dataPath, os.listdir(dataPath)[0])\n",
    "\n",
    "trainImgs=os.path.join(dataPath, os.listdir(dataPath)[1])\n",
    "testImgs=os.path.join(dataPath, os.listdir(dataPath)[0])\n",
    "\n",
    "subsTrain=os.listdir(trainImgs)\n",
    "subsTest=os.listdir(testImgs)\n",
    "\n",
    "pdDir=os.path.join(cwd, os.listdir(cwd)[2])\n",
    "os.mkdir(os.path.join(pdDir, \"training-data\"))\n",
    "os.mkdir(os.path.join(pdDir, \"testing-data\"))\n",
    "\n",
    "pdTrain=os.path.join(pdDir, os.listdir(pdDir)[1])\n",
    "pdTest=os.path.join(pdDir, os.listdir(pdDir)[0])"
   ]
  },
  {
   "cell_type": "code",
   "execution_count": 19,
   "metadata": {},
   "outputs": [],
   "source": [
    "def PreProcessImage(imgpath):\n",
    "    pass\n",
    "    img=Image.open(imgpath)\n",
    "\n",
    "    #resizing image\n",
    "    img=img.resize((128, 128), Image.Resampling.BILINEAR)\n",
    "\n",
    "    #converting image to grayscale\n",
    "    img=img.convert('L')\n",
    "\n",
    "    #binarizing the images\n",
    "    imgArr=np.array(img)\n",
    "    arr=np.where(imgArr>128, 255, 0)\n",
    "    img=Image.fromarray(arr)\n",
    "\n",
    "    #removing noise\n",
    "    img=img.filter(ImageFilter.MedianFilter())\n",
    "    \n",
    "    return img"
   ]
  },
  {
   "cell_type": "markdown",
   "metadata": {},
   "source": [
    "**Preprocessing training data**"
   ]
  },
  {
   "cell_type": "code",
   "execution_count": 20,
   "metadata": {},
   "outputs": [],
   "source": [
    "for i in subsTrain:\n",
    "    tempPdPath=os.path.join(pdTrain, i)\n",
    "    os.makedirs(tempPdPath, exist_ok=True)\n",
    "    tempPath=os.path.join(trainImgs, i)\n",
    "    data=os.listdir(tempPath)\n",
    "    for k in data:\n",
    "        image=PreProcessImage(os.path.join(tempPath, k))\n",
    "        image.save(os.path.join(tempPdPath, k))"
   ]
  },
  {
   "cell_type": "markdown",
   "metadata": {},
   "source": [
    "**Preprocessing testing data**"
   ]
  },
  {
   "cell_type": "code",
   "execution_count": 21,
   "metadata": {},
   "outputs": [],
   "source": [
    "for i in subsTest:\n",
    "    tempPdPath=os.path.join(pdTest, i)\n",
    "    os.makedirs(tempPdPath, exist_ok=True)\n",
    "    tempPath=os.path.join(testImgs, i)\n",
    "    data=os.listdir(tempPath)\n",
    "    for k in data:\n",
    "        image=PreProcessImage(os.path.join(tempPath, k))\n",
    "        image.save(os.path.join(tempPdPath, k))"
   ]
  }
 ],
 "metadata": {
  "kernelspec": {
   "display_name": "aDub",
   "language": "python",
   "name": "python3"
  },
  "language_info": {
   "codemirror_mode": {
    "name": "ipython",
    "version": 3
   },
   "file_extension": ".py",
   "mimetype": "text/x-python",
   "name": "python",
   "nbconvert_exporter": "python",
   "pygments_lexer": "ipython3",
   "version": "3.10.14"
  }
 },
 "nbformat": 4,
 "nbformat_minor": 2
}
